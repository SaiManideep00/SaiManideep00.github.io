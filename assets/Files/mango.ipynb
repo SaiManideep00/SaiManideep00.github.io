{
 "cells": [
  {
   "cell_type": "code",
   "execution_count": 4,
   "id": "fd2ddc72",
   "metadata": {},
   "outputs": [],
   "source": [
    "#importing required libraries\n",
    "import tensorflow as tf\n",
    "import numpy as np\n",
    "import pandas as pd\n",
    "import matplotlib.pyplot as plt\n",
    "import seaborn as sns\n",
    "from pathlib import Path\n",
    "import glob\n",
    "import cv2\n",
    "import os\n",
    "\n",
    "tf.random.set_seed(23)"
   ]
  },
  {
   "cell_type": "code",
   "execution_count": 5,
   "id": "989e21bf",
   "metadata": {},
   "outputs": [],
   "source": [
    "#Reading directory of dataset\n",
    "data_dir = 'D:/Data/LeafData'"
   ]
  },
  {
   "cell_type": "code",
   "execution_count": 6,
   "id": "af0e3341",
   "metadata": {},
   "outputs": [
    {
     "name": "stdout",
     "output_type": "stream",
     "text": [
      "['Anthracnose', 'Bacterial Canker', 'Cutting Weevil', 'Die Back', 'Gall Midge', 'Healthy', 'Powdery Mildew', 'Sooty Mould']\n"
     ]
    }
   ],
   "source": [
    "#print all directories of dataset\n",
    "print(os.listdir(data_dir))"
   ]
  },
  {
   "cell_type": "code",
   "execution_count": 80,
   "id": "2529b82c",
   "metadata": {},
   "outputs": [],
   "source": [
    "#Convert directories of data to a dataframe\n",
    "df = {\"img_path\":[],\"class_names\":[]}\n",
    "for class_names in os.listdir(data_dir):\n",
    "    for img_path in glob.glob(f\"{data_dir}/{class_names}/*\"):\n",
    "        df[\"img_path\"].append(img_path)\n",
    "        df[\"class_names\"].append(class_names)\n",
    "df = pd.DataFrame(df)\n",
    "   "
   ]
  },
  {
   "cell_type": "code",
   "execution_count": 81,
   "id": "32ac44f6",
   "metadata": {},
   "outputs": [
    {
     "data": {
      "text/plain": [
       "(4000, 2)"
      ]
     },
     "execution_count": 81,
     "metadata": {},
     "output_type": "execute_result"
    }
   ],
   "source": [
    "df.shape"
   ]
  },
  {
   "cell_type": "code",
   "execution_count": 82,
   "id": "ecc3e9cb",
   "metadata": {},
   "outputs": [
    {
     "data": {
      "text/html": [
       "<div>\n",
       "<style scoped>\n",
       "    .dataframe tbody tr th:only-of-type {\n",
       "        vertical-align: middle;\n",
       "    }\n",
       "\n",
       "    .dataframe tbody tr th {\n",
       "        vertical-align: top;\n",
       "    }\n",
       "\n",
       "    .dataframe thead th {\n",
       "        text-align: right;\n",
       "    }\n",
       "</style>\n",
       "<table border=\"1\" class=\"dataframe\">\n",
       "  <thead>\n",
       "    <tr style=\"text-align: right;\">\n",
       "      <th></th>\n",
       "      <th>img_path</th>\n",
       "      <th>class_names</th>\n",
       "    </tr>\n",
       "  </thead>\n",
       "  <tbody>\n",
       "    <tr>\n",
       "      <th>485</th>\n",
       "      <td>D:/Data/LeafData/Anthracnose\\IMG_20211011_1659...</td>\n",
       "      <td>Anthracnose</td>\n",
       "    </tr>\n",
       "    <tr>\n",
       "      <th>3013</th>\n",
       "      <td>D:/Data/LeafData/Powdery Mildew\\20211109_12140...</td>\n",
       "      <td>Powdery Mildew</td>\n",
       "    </tr>\n",
       "    <tr>\n",
       "      <th>3808</th>\n",
       "      <td>D:/Data/LeafData/Sooty Mould\\IMG_20211211_1542...</td>\n",
       "      <td>Sooty Mould</td>\n",
       "    </tr>\n",
       "    <tr>\n",
       "      <th>3933</th>\n",
       "      <td>D:/Data/LeafData/Sooty Mould\\IMG_20211212_1444...</td>\n",
       "      <td>Sooty Mould</td>\n",
       "    </tr>\n",
       "    <tr>\n",
       "      <th>80</th>\n",
       "      <td>D:/Data/LeafData/Anthracnose\\20211011_134413 (...</td>\n",
       "      <td>Anthracnose</td>\n",
       "    </tr>\n",
       "  </tbody>\n",
       "</table>\n",
       "</div>"
      ],
      "text/plain": [
       "                                               img_path     class_names\n",
       "485   D:/Data/LeafData/Anthracnose\\IMG_20211011_1659...     Anthracnose\n",
       "3013  D:/Data/LeafData/Powdery Mildew\\20211109_12140...  Powdery Mildew\n",
       "3808  D:/Data/LeafData/Sooty Mould\\IMG_20211211_1542...     Sooty Mould\n",
       "3933  D:/Data/LeafData/Sooty Mould\\IMG_20211212_1444...     Sooty Mould\n",
       "80    D:/Data/LeafData/Anthracnose\\20211011_134413 (...     Anthracnose"
      ]
     },
     "execution_count": 82,
     "metadata": {},
     "output_type": "execute_result"
    }
   ],
   "source": [
    "df.sample(5)"
   ]
  },
  {
   "cell_type": "code",
   "execution_count": 10,
   "id": "fc7e5231",
   "metadata": {},
   "outputs": [
    {
     "name": "stdout",
     "output_type": "stream",
     "text": [
      "img_path       2400\n",
      "class_names    2400\n",
      "dtype: int64\n",
      "img_path       800\n",
      "class_names    800\n",
      "dtype: int64\n",
      "img_path       800\n",
      "class_names    800\n",
      "dtype: int64\n"
     ]
    }
   ],
   "source": [
    "#Divide the data into train,test and development 60% train, 20% test and 20% development\n",
    "from sklearn.model_selection import train_test_split\n",
    "\n",
    "train_size=0.6\n",
    "# In the first step we will split the data in training and remaining dataset\n",
    "train,rem = train_test_split(df, train_size=0.6)\n",
    "\n",
    "test_size = 0.5\n",
    "dev,test = train_test_split(rem, test_size=0.5)\n",
    "\n",
    "print(train.count())\n",
    "print(dev.count())\n",
    "print(test.count())"
   ]
  },
  {
   "cell_type": "code",
   "execution_count": 11,
   "id": "5f8dd539",
   "metadata": {},
   "outputs": [
    {
     "data": {
      "text/plain": [
       "'D:/Data/LeafData/Anthracnose\\\\20211008_124249 (Custom).jpg'"
      ]
     },
     "execution_count": 11,
     "metadata": {},
     "output_type": "execute_result"
    }
   ],
   "source": [
    "df['img_path'][0]"
   ]
  },
  {
   "cell_type": "code",
   "execution_count": 12,
   "id": "9b32689b",
   "metadata": {},
   "outputs": [
    {
     "name": "stdout",
     "output_type": "stream",
     "text": [
      "[[[221 201 183]\n",
      "  [221 201 183]\n",
      "  [220 200 182]\n",
      "  ...\n",
      "  [202 178 158]\n",
      "  [202 178 158]\n",
      "  [202 178 158]]\n",
      "\n",
      " [[221 201 183]\n",
      "  [221 201 183]\n",
      "  [220 200 182]\n",
      "  ...\n",
      "  [202 178 158]\n",
      "  [202 178 158]\n",
      "  [202 178 158]]\n",
      "\n",
      " [[221 201 183]\n",
      "  [221 201 183]\n",
      "  [220 200 182]\n",
      "  ...\n",
      "  [202 178 158]\n",
      "  [202 178 158]\n",
      "  [202 178 158]]\n",
      "\n",
      " ...\n",
      "\n",
      " [[208 188 171]\n",
      "  [207 187 170]\n",
      "  [207 187 170]\n",
      "  ...\n",
      "  [192 165 144]\n",
      "  [192 165 144]\n",
      "  [192 165 144]]\n",
      "\n",
      " [[208 188 171]\n",
      "  [207 187 170]\n",
      "  [207 187 170]\n",
      "  ...\n",
      "  [192 165 144]\n",
      "  [192 165 144]\n",
      "  [192 165 144]]\n",
      "\n",
      " [[208 188 171]\n",
      "  [207 187 170]\n",
      "  [207 187 170]\n",
      "  ...\n",
      "  [192 165 144]\n",
      "  [192 165 144]\n",
      "  [192 165 144]]]\n"
     ]
    }
   ],
   "source": [
    "#printing pixels of one image\n",
    "img = cv2.imread(df.img_path[0])\n",
    "print(img)"
   ]
  },
  {
   "cell_type": "code",
   "execution_count": 13,
   "id": "62bfb1f3",
   "metadata": {},
   "outputs": [
    {
     "data": {
      "image/png": "[encoded data removed]",
      "text/plain": [
       "<PIL.Image.Image image mode=RGB size=240x320>"
      ]
     },
     "metadata": {},
     "output_type": "display_data"
    }
   ],
   "source": [
    "#visualizing an image\n",
    "from PIL import Image\n",
    "import numpy as np\n",
    "from IPython.display import display\n",
    "\n",
    "# define the shape of the image\n",
    "height = 100\n",
    "width = 100\n",
    "channels = 3\n",
    "pixel_values = cv2.imread(df.img_path[0])\n",
    "image = Image.fromarray(pixel_values.astype('uint8'))\n",
    "display(image)"
   ]
  },
  {
   "cell_type": "code",
   "execution_count": 14,
   "id": "a4a48cc9",
   "metadata": {},
   "outputs": [],
   "source": [
    "#Label Encoding for classnames\n",
    "from sklearn.preprocessing import LabelEncoder \n",
    "\n",
    "Le = LabelEncoder()\n",
    "train[\"class_names\"] = Le.fit_transform(train[\"class_names\"])\n",
    "test[\"class_names\"] = Le.fit_transform(test[\"class_names\"])\n",
    "dev[\"class_names\"] = Le.fit_transform(dev[\"class_names\"])"
   ]
  },
  {
   "cell_type": "code",
   "execution_count": 15,
   "id": "3d56be3b",
   "metadata": {},
   "outputs": [
    {
     "data": {
      "text/html": [
       "<div>\n",
       "<style scoped>\n",
       "    .dataframe tbody tr th:only-of-type {\n",
       "        vertical-align: middle;\n",
       "    }\n",
       "\n",
       "    .dataframe tbody tr th {\n",
       "        vertical-align: top;\n",
       "    }\n",
       "\n",
       "    .dataframe thead th {\n",
       "        text-align: right;\n",
       "    }\n",
       "</style>\n",
       "<table border=\"1\" class=\"dataframe\">\n",
       "  <thead>\n",
       "    <tr style=\"text-align: right;\">\n",
       "      <th></th>\n",
       "      <th>img_path</th>\n",
       "      <th>class_names</th>\n",
       "    </tr>\n",
       "  </thead>\n",
       "  <tbody>\n",
       "    <tr>\n",
       "      <th>3479</th>\n",
       "      <td>D:/Data/LeafData/Powdery Mildew\\IMG_20211107_1...</td>\n",
       "      <td>6</td>\n",
       "    </tr>\n",
       "    <tr>\n",
       "      <th>3520</th>\n",
       "      <td>D:/Data/LeafData/Sooty Mould\\IMG_20211108_1209...</td>\n",
       "      <td>7</td>\n",
       "    </tr>\n",
       "    <tr>\n",
       "      <th>3545</th>\n",
       "      <td>D:/Data/LeafData/Sooty Mould\\IMG_20211108_1215...</td>\n",
       "      <td>7</td>\n",
       "    </tr>\n",
       "    <tr>\n",
       "      <th>1447</th>\n",
       "      <td>D:/Data/LeafData/Cutting Weevil\\20211011_16252...</td>\n",
       "      <td>2</td>\n",
       "    </tr>\n",
       "    <tr>\n",
       "      <th>320</th>\n",
       "      <td>D:/Data/LeafData/Anthracnose\\IMG_20211011_1605...</td>\n",
       "      <td>0</td>\n",
       "    </tr>\n",
       "  </tbody>\n",
       "</table>\n",
       "</div>"
      ],
      "text/plain": [
       "                                               img_path  class_names\n",
       "3479  D:/Data/LeafData/Powdery Mildew\\IMG_20211107_1...            6\n",
       "3520  D:/Data/LeafData/Sooty Mould\\IMG_20211108_1209...            7\n",
       "3545  D:/Data/LeafData/Sooty Mould\\IMG_20211108_1215...            7\n",
       "1447  D:/Data/LeafData/Cutting Weevil\\20211011_16252...            2\n",
       "320   D:/Data/LeafData/Anthracnose\\IMG_20211011_1605...            0"
      ]
     },
     "execution_count": 15,
     "metadata": {},
     "output_type": "execute_result"
    }
   ],
   "source": [
    "train.sample(5)"
   ]
  },
  {
   "cell_type": "code",
   "execution_count": 16,
   "id": "011a5191",
   "metadata": {},
   "outputs": [
    {
     "data": {
      "text/html": [
       "<div>\n",
       "<style scoped>\n",
       "    .dataframe tbody tr th:only-of-type {\n",
       "        vertical-align: middle;\n",
       "    }\n",
       "\n",
       "    .dataframe tbody tr th {\n",
       "        vertical-align: top;\n",
       "    }\n",
       "\n",
       "    .dataframe thead th {\n",
       "        text-align: right;\n",
       "    }\n",
       "</style>\n",
       "<table border=\"1\" class=\"dataframe\">\n",
       "  <thead>\n",
       "    <tr style=\"text-align: right;\">\n",
       "      <th></th>\n",
       "      <th>img_path</th>\n",
       "      <th>class_names</th>\n",
       "    </tr>\n",
       "  </thead>\n",
       "  <tbody>\n",
       "    <tr>\n",
       "      <th>630</th>\n",
       "      <td>D:/Data/LeafData/Bacterial Canker\\IMG_20211106...</td>\n",
       "      <td>1</td>\n",
       "    </tr>\n",
       "    <tr>\n",
       "      <th>3619</th>\n",
       "      <td>D:/Data/LeafData/Sooty Mould\\IMG_20211108_1223...</td>\n",
       "      <td>7</td>\n",
       "    </tr>\n",
       "    <tr>\n",
       "      <th>3483</th>\n",
       "      <td>D:/Data/LeafData/Powdery Mildew\\IMG_20211107_1...</td>\n",
       "      <td>6</td>\n",
       "    </tr>\n",
       "    <tr>\n",
       "      <th>3986</th>\n",
       "      <td>D:/Data/LeafData/Sooty Mould\\IMG_20211212_1503...</td>\n",
       "      <td>7</td>\n",
       "    </tr>\n",
       "    <tr>\n",
       "      <th>3298</th>\n",
       "      <td>D:/Data/LeafData/Powdery Mildew\\IMG_20211107_1...</td>\n",
       "      <td>6</td>\n",
       "    </tr>\n",
       "  </tbody>\n",
       "</table>\n",
       "</div>"
      ],
      "text/plain": [
       "                                               img_path  class_names\n",
       "630   D:/Data/LeafData/Bacterial Canker\\IMG_20211106...            1\n",
       "3619  D:/Data/LeafData/Sooty Mould\\IMG_20211108_1223...            7\n",
       "3483  D:/Data/LeafData/Powdery Mildew\\IMG_20211107_1...            6\n",
       "3986  D:/Data/LeafData/Sooty Mould\\IMG_20211212_1503...            7\n",
       "3298  D:/Data/LeafData/Powdery Mildew\\IMG_20211107_1...            6"
      ]
     },
     "execution_count": 16,
     "metadata": {},
     "output_type": "execute_result"
    }
   ],
   "source": [
    "dev.sample(5)"
   ]
  },
  {
   "cell_type": "code",
   "execution_count": 17,
   "id": "2f3cf7a2",
   "metadata": {},
   "outputs": [
    {
     "data": {
      "text/html": [
       "<div>\n",
       "<style scoped>\n",
       "    .dataframe tbody tr th:only-of-type {\n",
       "        vertical-align: middle;\n",
       "    }\n",
       "\n",
       "    .dataframe tbody tr th {\n",
       "        vertical-align: top;\n",
       "    }\n",
       "\n",
       "    .dataframe thead th {\n",
       "        text-align: right;\n",
       "    }\n",
       "</style>\n",
       "<table border=\"1\" class=\"dataframe\">\n",
       "  <thead>\n",
       "    <tr style=\"text-align: right;\">\n",
       "      <th></th>\n",
       "      <th>img_path</th>\n",
       "      <th>class_names</th>\n",
       "    </tr>\n",
       "  </thead>\n",
       "  <tbody>\n",
       "    <tr>\n",
       "      <th>1610</th>\n",
       "      <td>D:/Data/LeafData/Die Back\\20211129_161616 (Cus...</td>\n",
       "      <td>3</td>\n",
       "    </tr>\n",
       "    <tr>\n",
       "      <th>3591</th>\n",
       "      <td>D:/Data/LeafData/Sooty Mould\\IMG_20211108_1220...</td>\n",
       "      <td>7</td>\n",
       "    </tr>\n",
       "    <tr>\n",
       "      <th>2178</th>\n",
       "      <td>D:/Data/LeafData/Gall Midge\\IMG_20211106_16284...</td>\n",
       "      <td>4</td>\n",
       "    </tr>\n",
       "    <tr>\n",
       "      <th>1675</th>\n",
       "      <td>D:/Data/LeafData/Die Back\\20211129_162122 (Cus...</td>\n",
       "      <td>3</td>\n",
       "    </tr>\n",
       "    <tr>\n",
       "      <th>3080</th>\n",
       "      <td>D:/Data/LeafData/Powdery Mildew\\20211109_12184...</td>\n",
       "      <td>6</td>\n",
       "    </tr>\n",
       "  </tbody>\n",
       "</table>\n",
       "</div>"
      ],
      "text/plain": [
       "                                               img_path  class_names\n",
       "1610  D:/Data/LeafData/Die Back\\20211129_161616 (Cus...            3\n",
       "3591  D:/Data/LeafData/Sooty Mould\\IMG_20211108_1220...            7\n",
       "2178  D:/Data/LeafData/Gall Midge\\IMG_20211106_16284...            4\n",
       "1675  D:/Data/LeafData/Die Back\\20211129_162122 (Cus...            3\n",
       "3080  D:/Data/LeafData/Powdery Mildew\\20211109_12184...            6"
      ]
     },
     "execution_count": 17,
     "metadata": {},
     "output_type": "execute_result"
    }
   ],
   "source": [
    "test.sample(5)"
   ]
  },
  {
   "cell_type": "code",
   "execution_count": 18,
   "id": "075882ca",
   "metadata": {},
   "outputs": [],
   "source": [
    "#Assining required constants\n",
    "batch_size = 64\n",
    "epochs = 40\n",
    "img_channel = 3\n",
    "img_width, img_height = (48,48)"
   ]
  },
  {
   "cell_type": "code",
   "execution_count": 19,
   "id": "ed86474b",
   "metadata": {},
   "outputs": [],
   "source": [
    "#One Hot encoding\n",
    "train_labels = tf.keras.utils.to_categorical(train[\"class_names\"])\n",
    "dev_labels = tf.keras.utils.to_categorical(dev[\"class_names\"])\n",
    "test_labels = tf.keras.utils.to_categorical(test[\"class_names\"])"
   ]
  },
  {
   "cell_type": "code",
   "execution_count": 20,
   "id": "67a413cd",
   "metadata": {},
   "outputs": [
    {
     "data": {
      "text/plain": [
       "array([[0., 0., 0., ..., 0., 0., 1.],\n",
       "       [1., 0., 0., ..., 0., 0., 0.],\n",
       "       [0., 0., 0., ..., 0., 0., 0.],\n",
       "       ...,\n",
       "       [0., 0., 0., ..., 0., 1., 0.],\n",
       "       [0., 0., 0., ..., 0., 0., 0.],\n",
       "       [0., 0., 1., ..., 0., 0., 0.]], dtype=float32)"
      ]
     },
     "execution_count": 20,
     "metadata": {},
     "output_type": "execute_result"
    }
   ],
   "source": [
    "train_labels"
   ]
  },
  {
   "cell_type": "code",
   "execution_count": 21,
   "id": "a52a421f",
   "metadata": {},
   "outputs": [
    {
     "data": {
      "text/plain": [
       "array([[1., 0., 0., ..., 0., 0., 0.],\n",
       "       [0., 0., 0., ..., 0., 0., 1.],\n",
       "       [0., 0., 0., ..., 0., 1., 0.],\n",
       "       ...,\n",
       "       [0., 0., 0., ..., 0., 0., 1.],\n",
       "       [0., 0., 0., ..., 0., 0., 0.],\n",
       "       [0., 0., 0., ..., 0., 0., 1.]], dtype=float32)"
      ]
     },
     "execution_count": 21,
     "metadata": {},
     "output_type": "execute_result"
    }
   ],
   "source": [
    "dev_labels"
   ]
  },
  {
   "cell_type": "code",
   "execution_count": 22,
   "id": "0cd55bb7",
   "metadata": {},
   "outputs": [
    {
     "data": {
      "text/plain": [
       "array([[0., 0., 1., ..., 0., 0., 0.],\n",
       "       [0., 0., 0., ..., 0., 0., 0.],\n",
       "       [1., 0., 0., ..., 0., 0., 0.],\n",
       "       ...,\n",
       "       [0., 0., 0., ..., 0., 0., 1.],\n",
       "       [0., 0., 0., ..., 0., 1., 0.],\n",
       "       [0., 0., 0., ..., 0., 0., 0.]], dtype=float32)"
      ]
     },
     "execution_count": 22,
     "metadata": {},
     "output_type": "execute_result"
    }
   ],
   "source": [
    "test_labels"
   ]
  },
  {
   "cell_type": "code",
   "execution_count": 23,
   "id": "3f5fcbc8",
   "metadata": {},
   "outputs": [
    {
     "name": "stdout",
     "output_type": "stream",
     "text": [
      "{0: 1.0231023, 1: 1.0544218, 2: 1.0, 3: 1.0801394, 4: 1.0231023, 5: 1.0508474, 6: 1.0, 7: 1.0402684}\n"
     ]
    }
   ],
   "source": [
    "# Compute class weights \n",
    "classTotals = train_labels.sum(axis=0)\n",
    "classWeight = classTotals.max() / classTotals\n",
    "\n",
    "class_weight = {e : weight for e , weight in enumerate(classWeight)}\n",
    "print(class_weight)"
   ]
  },
  {
   "cell_type": "code",
   "execution_count": 25,
   "id": "80a677cb",
   "metadata": {},
   "outputs": [],
   "source": [
    "# Function used for Transformation\n",
    "\n",
    "def load(image , label):\n",
    "    image = tf.io.read_file(image)\n",
    "    image = tf.io.decode_jpeg(image , channels = 3)\n",
    "    return image , label"
   ]
  },
  {
   "cell_type": "code",
   "execution_count": 26,
   "id": "3398721a",
   "metadata": {},
   "outputs": [],
   "source": [
    "# Define IMAGE SIZE and BATCH SIZE \n",
    "IMG_SIZE = 96 \n",
    "BATCH_SIZE = 64\n",
    "\n",
    "# Basic Transformation\n",
    "resize = tf.keras.Sequential([\n",
    "    tf.keras.layers.experimental.preprocessing.Resizing(IMG_SIZE, IMG_SIZE)          \n",
    "])\n",
    "\n",
    "# Data Augmentation\n",
    "data_augmentation = tf.keras.Sequential([\n",
    "    tf.keras.layers.experimental.preprocessing.RandomFlip(\"horizontal\"),\n",
    "    tf.keras.layers.experimental.preprocessing.RandomRotation(0.1),\n",
    "    tf.keras.layers.experimental.preprocessing.RandomZoom(height_factor = (-0.1, -0.05))\n",
    "])"
   ]
  },
  {
   "cell_type": "code",
   "execution_count": 27,
   "id": "90d726e4",
   "metadata": {},
   "outputs": [],
   "source": [
    "# Function used to Create a Tensorflow Data Object\n",
    "AUTOTUNE = tf.data.experimental.AUTOTUNE #to find a good allocation of its CPU budget across all parameters\n",
    "def get_dataset(paths , labels , train = True):\n",
    "    image_paths = tf.convert_to_tensor(paths)\n",
    "    labels = tf.convert_to_tensor(labels)\n",
    "\n",
    "    image_dataset = tf.data.Dataset.from_tensor_slices(image_paths)\n",
    "    label_dataset = tf.data.Dataset.from_tensor_slices(labels)\n",
    "\n",
    "    dataset = tf.data.Dataset.zip((image_dataset , label_dataset))\n",
    "\n",
    "    dataset = dataset.map(lambda image , label : load(image , label))\n",
    "    dataset = dataset.map(lambda image, label: (resize(image), label) , num_parallel_calls=AUTOTUNE)\n",
    "    dataset = dataset.shuffle(1000)\n",
    "    dataset = dataset.batch(BATCH_SIZE)\n",
    "\n",
    "    if train:\n",
    "        dataset = dataset.map(lambda image, label: (data_augmentation(image), label) , num_parallel_calls=AUTOTUNE)\n",
    "        dataset = dataset.repeat()\n",
    "    \n",
    "    return dataset"
   ]
  },
  {
   "cell_type": "code",
   "execution_count": 28,
   "id": "c487c5a5",
   "metadata": {},
   "outputs": [
    {
     "name": "stdout",
     "output_type": "stream",
     "text": [
      "Wall time: 0 ns\n",
      "(64, 96, 96, 3)\n",
      "(64, 8)\n"
     ]
    }
   ],
   "source": [
    "# Creating Train Dataset object and Verifying it\n",
    "%time \n",
    "train_dataset = get_dataset(train[\"img_path\"], train_labels)\n",
    "\n",
    "#iter() returns an iterator of the given object\n",
    "#next() returns the next number in an iterator\n",
    "image , label = next(iter(train_dataset)) \n",
    "print(image.shape)\n",
    "print(label.shape)"
   ]
  },
  {
   "cell_type": "code",
   "execution_count": 29,
   "id": "6ff44bd8",
   "metadata": {},
   "outputs": [
    {
     "name": "stdout",
     "output_type": "stream",
     "text": [
      "Anthracnose\n"
     ]
    },
    {
     "data": {
      "text/plain": [
       "<matplotlib.image.AxesImage at 0x2da83fb4eb0>"
      ]
     },
     "execution_count": 29,
     "metadata": {},
     "output_type": "execute_result"
    },
    {
     "data": {
      "image/png": "[encoded data removed]",
      "text/plain": [
       "<Figure size 640x480 with 1 Axes>"
      ]
     },
     "metadata": {},
     "output_type": "display_data"
    }
   ],
   "source": [
    "# View a sample Training Image\n",
    "print(Le.inverse_transform(np.argmax(label , axis = 1))[0])\n",
    "plt.imshow((image[0].numpy()/255).reshape(96 , 96 , 3))"
   ]
  },
  {
   "cell_type": "code",
   "execution_count": 30,
   "id": "55da9818",
   "metadata": {},
   "outputs": [
    {
     "name": "stdout",
     "output_type": "stream",
     "text": [
      "Wall time: 0 ns\n",
      "(64, 96, 96, 3)\n",
      "(64, 8)\n"
     ]
    }
   ],
   "source": [
    "# Creating dev Dataset object and Verifying it\n",
    "%time \n",
    "val_dataset = get_dataset(dev[\"img_path\"] , dev_labels , train = False)\n",
    "\n",
    "image , label = next(iter(val_dataset))\n",
    "print(image.shape)\n",
    "print(label.shape)"
   ]
  },
  {
   "cell_type": "code",
   "execution_count": 31,
   "id": "91a269a4",
   "metadata": {},
   "outputs": [
    {
     "name": "stdout",
     "output_type": "stream",
     "text": [
      "Sooty Mould\n"
     ]
    },
    {
     "data": {
      "text/plain": [
       "<matplotlib.image.AxesImage at 0x2da84023c10>"
      ]
     },
     "execution_count": 31,
     "metadata": {},
     "output_type": "execute_result"
    },
    {
     "data": {
      "image/png": "[encoded data removed]",
      "text/plain": [
       "<Figure size 640x480 with 1 Axes>"
      ]
     },
     "metadata": {},
     "output_type": "display_data"
    }
   ],
   "source": [
    "# View a sample Validation Image\n",
    "print(Le.inverse_transform(np.argmax(label , axis = 1))[0])\n",
    "plt.imshow((image[0].numpy()/255).reshape(96 , 96 , 3))"
   ]
  },
  {
   "cell_type": "code",
   "execution_count": 32,
   "id": "6297d553",
   "metadata": {},
   "outputs": [
    {
     "name": "stdout",
     "output_type": "stream",
     "text": [
      "Wall time: 0 ns\n",
      "(64, 96, 96, 3)\n",
      "(64, 8)\n"
     ]
    }
   ],
   "source": [
    "# Creating test Dataset object and Verifying it\n",
    "%time \n",
    "test_dataset = get_dataset(test[\"img_path\"] , test_labels , train = False)\n",
    "\n",
    "image , label = next(iter(val_dataset))\n",
    "print(image.shape)\n",
    "print(label.shape)"
   ]
  },
  {
   "cell_type": "code",
   "execution_count": 33,
   "id": "b4ea7d50",
   "metadata": {},
   "outputs": [
    {
     "name": "stdout",
     "output_type": "stream",
     "text": [
      "Healthy\n"
     ]
    },
    {
     "data": {
      "text/plain": [
       "<matplotlib.image.AxesImage at 0x2da8409e820>"
      ]
     },
     "execution_count": 33,
     "metadata": {},
     "output_type": "execute_result"
    },
    {
     "data": {
      "image/png": "[encoded data removed]",
      "text/plain": [
       "<Figure size 640x480 with 1 Axes>"
      ]
     },
     "metadata": {},
     "output_type": "display_data"
    }
   ],
   "source": [
    "# View a sample Test Image\n",
    "print(Le.inverse_transform(np.argmax(label , axis = 1))[0])\n",
    "plt.imshow((image[0].numpy()/255).reshape(96 , 96 , 3))"
   ]
  },
  {
   "cell_type": "code",
   "execution_count": 37,
   "id": "b96298ee",
   "metadata": {},
   "outputs": [
    {
     "name": "stdout",
     "output_type": "stream",
     "text": [
      "Model: \"sequential_4\"\n",
      "_________________________________________________________________\n",
      " Layer (type)                Output Shape              Param #   \n",
      "=================================================================\n",
      " efficientnetb2 (Functional)  (None, 3, 3, 1408)       7768569   \n",
      "                                                                 \n",
      " conv2d_2 (Conv2D)           (None, 3, 3, 128)         1622144   \n",
      "                                                                 \n",
      " global_average_pooling2d_2   (None, 128)              0         \n",
      " (GlobalAveragePooling2D)                                        \n",
      "                                                                 \n",
      " dense_4 (Dense)             (None, 128)               16512     \n",
      "                                                                 \n",
      " dropout_2 (Dropout)         (None, 128)               0         \n",
      "                                                                 \n",
      " dense_5 (Dense)             (None, 8)                 1032      \n",
      "                                                                 \n",
      "=================================================================\n",
      "Total params: 9,408,257\n",
      "Trainable params: 9,340,682\n",
      "Non-trainable params: 67,575\n",
      "_________________________________________________________________\n"
     ]
    }
   ],
   "source": [
    "# Building EfficientNet model\n",
    "from tensorflow.keras.applications import EfficientNetB2\n",
    "\n",
    "backbone = EfficientNetB2(\n",
    "    input_shape=(96, 96, 3),\n",
    "    include_top=False\n",
    ")\n",
    "\n",
    "model1 = tf.keras.Sequential([\n",
    "    backbone,\n",
    "    tf.keras.layers.Conv2D(128, 3, padding='same', activation='relu'),\n",
    "    tf.keras.layers.GlobalAveragePooling2D(),\n",
    "    tf.keras.layers.Dense(128, activation='relu'),\n",
    "    tf.keras.layers.Dropout(0.3),\n",
    "    tf.keras.layers.Dense(8, activation='sigmoid')\n",
    "])\n",
    "\n",
    "model1.summary()"
   ]
  },
  {
   "cell_type": "code",
   "execution_count": 38,
   "id": "306bde76",
   "metadata": {},
   "outputs": [],
   "source": [
    "# Compiling the model by providing the Optimizer , Loss and Metrics\n",
    "model1.compile(\n",
    "    optimizer=tf.keras.optimizers.Adam(learning_rate=0.001, beta_1=0.9, beta_2=0.999, epsilon=1e-07),\n",
    "    loss = 'binary_crossentropy',\n",
    "    metrics=['accuracy' , tf.keras.metrics.Precision(name='precision'),tf.keras.metrics.Recall(name='recall')]\n",
    ")"
   ]
  },
  {
   "cell_type": "code",
   "execution_count": 39,
   "id": "38ecd704",
   "metadata": {},
   "outputs": [
    {
     "name": "stdout",
     "output_type": "stream",
     "text": [
      "Epoch 1/12\n",
      "37/37 [==============================] - 212s 5s/step - loss: 0.1395 - accuracy: 0.8239 - precision: 0.7677 - recall: 0.7800 - val_loss: 0.1876 - val_accuracy: 0.8880 - val_precision: 0.9082 - val_recall: 0.8633\n",
      "Epoch 2/12\n",
      "37/37 [==============================] - 180s 5s/step - loss: 0.0469 - accuracy: 0.9525 - precision: 0.9556 - recall: 0.9401 - val_loss: 0.0807 - val_accuracy: 0.9466 - val_precision: 0.9536 - val_recall: 0.9375\n",
      "Epoch 3/12\n",
      "37/37 [==============================] - 171s 5s/step - loss: 0.0285 - accuracy: 0.9735 - precision: 0.9720 - recall: 0.9658 - val_loss: 0.2488 - val_accuracy: 0.8763 - val_precision: 0.8883 - val_recall: 0.8698\n",
      "Epoch 4/12\n",
      "37/37 [==============================] - 191s 5s/step - loss: 0.0317 - accuracy: 0.9666 - precision: 0.9660 - recall: 0.9602 - val_loss: 0.0464 - val_accuracy: 0.9531 - val_precision: 0.9667 - val_recall: 0.9440\n",
      "Epoch 5/12\n",
      "37/37 [==============================] - 198s 5s/step - loss: 0.0161 - accuracy: 0.9850 - precision: 0.9845 - recall: 0.9812 - val_loss: 0.0361 - val_accuracy: 0.9779 - val_precision: 0.9777 - val_recall: 0.9714\n",
      "Epoch 6/12\n",
      "37/37 [==============================] - 175s 5s/step - loss: 0.0210 - accuracy: 0.9782 - precision: 0.9773 - recall: 0.9752 - val_loss: 0.0337 - val_accuracy: 0.9688 - val_precision: 0.9813 - val_recall: 0.9570\n",
      "Epoch 7/12\n",
      "37/37 [==============================] - 168s 5s/step - loss: 0.0155 - accuracy: 0.9880 - precision: 0.9897 - recall: 0.9846 - val_loss: 0.0244 - val_accuracy: 0.9714 - val_precision: 0.9815 - val_recall: 0.9648\n",
      "Epoch 8/12\n",
      "37/37 [==============================] - 165s 4s/step - loss: 0.0092 - accuracy: 0.9910 - precision: 0.9936 - recall: 0.9906 - val_loss: 0.0197 - val_accuracy: 0.9740 - val_precision: 0.9778 - val_recall: 0.9740\n",
      "Epoch 9/12\n",
      "37/37 [==============================] - 177s 5s/step - loss: 0.0163 - accuracy: 0.9880 - precision: 0.9876 - recall: 0.9867 - val_loss: 0.0127 - val_accuracy: 0.9909 - val_precision: 0.9934 - val_recall: 0.9805\n",
      "Epoch 10/12\n",
      "37/37 [==============================] - 164s 4s/step - loss: 0.0297 - accuracy: 0.9658 - precision: 0.9682 - recall: 0.9636 - val_loss: 0.5213 - val_accuracy: 0.8828 - val_precision: 0.8798 - val_recall: 0.8867\n",
      "Epoch 11/12\n",
      "37/37 [==============================] - 171s 5s/step - loss: 0.0220 - accuracy: 0.9829 - precision: 0.9820 - recall: 0.9807 - val_loss: 1.6858 - val_accuracy: 0.8255 - val_precision: 0.8394 - val_recall: 0.7552\n",
      "Epoch 12/12\n",
      "37/37 [==============================] - 173s 5s/step - loss: 0.0225 - accuracy: 0.9760 - precision: 0.9801 - recall: 0.9709 - val_loss: 3.4161 - val_accuracy: 0.9245 - val_precision: 0.9269 - val_recall: 0.9245\n"
     ]
    }
   ],
   "source": [
    "# Train the model\n",
    "history1 = model1.fit(\n",
    "    train_dataset,\n",
    "    steps_per_epoch=len(train_labels)//BATCH_SIZE,\n",
    "    epochs=12,\n",
    "    validation_data=val_dataset,\n",
    "    validation_steps = len(dev_labels)//BATCH_SIZE,\n",
    "    class_weight=class_weight\n",
    ")"
   ]
  },
  {
   "cell_type": "code",
   "execution_count": 42,
   "id": "06763529",
   "metadata": {},
   "outputs": [
    {
     "data": {
      "image/png": "[encoded data removed]",
      "text/plain": [
       "<Figure size 640x480 with 1 Axes>"
      ]
     },
     "metadata": {},
     "output_type": "display_data"
    }
   ],
   "source": [
    "#Plotting graph\n",
    "import matplotlib.pyplot as plt\n",
    "plt.plot(history1.history['loss'],color='blue',label='train_loss')\n",
    "plt.plot(history1.history['val_loss'],color='orange',label='dev_loss')\n",
    "plt.legend(loc='upper left')\n",
    "plt.show()"
   ]
  },
  {
   "cell_type": "code",
   "execution_count": 43,
   "id": "5a3719d4",
   "metadata": {},
   "outputs": [
    {
     "name": "stdout",
     "output_type": "stream",
     "text": [
      "Model: \"sequential_5\"\n",
      "_________________________________________________________________\n",
      " Layer (type)                Output Shape              Param #   \n",
      "=================================================================\n",
      " efficientnetb2 (Functional)  (None, 3, 3, 1408)       7768569   \n",
      "                                                                 \n",
      " conv2d_3 (Conv2D)           (None, 3, 3, 256)         3244288   \n",
      "                                                                 \n",
      " global_average_pooling2d_3   (None, 256)              0         \n",
      " (GlobalAveragePooling2D)                                        \n",
      "                                                                 \n",
      " dense_6 (Dense)             (None, 256)               65792     \n",
      "                                                                 \n",
      " dropout_3 (Dropout)         (None, 256)               0         \n",
      "                                                                 \n",
      " dense_7 (Dense)             (None, 8)                 2056      \n",
      "                                                                 \n",
      "=================================================================\n",
      "Total params: 11,080,705\n",
      "Trainable params: 11,013,130\n",
      "Non-trainable params: 67,575\n",
      "_________________________________________________________________\n"
     ]
    }
   ],
   "source": [
    "#Second model\n",
    "from tensorflow.keras.applications import EfficientNetB2\n",
    "\n",
    "backbone = EfficientNetB2(\n",
    "    input_shape=(96, 96, 3),\n",
    "    include_top=False\n",
    ")\n",
    "\n",
    "model2 = tf.keras.Sequential([\n",
    "    backbone,\n",
    "    tf.keras.layers.Conv2D(256, 3, padding='same', activation='relu'),\n",
    "    tf.keras.layers.GlobalAveragePooling2D(),\n",
    "    tf.keras.layers.Dense(256, activation='relu'),\n",
    "    tf.keras.layers.Dropout(0.3),\n",
    "    tf.keras.layers.Dense(8, activation='sigmoid')\n",
    "])\n",
    "\n",
    "model2.summary()"
   ]
  },
  {
   "cell_type": "code",
   "execution_count": 44,
   "id": "3751a1f4",
   "metadata": {},
   "outputs": [],
   "source": [
    "model2.compile(\n",
    "    optimizer=tf.keras.optimizers.Adam(learning_rate=0.001, beta_1=0.9, beta_2=0.999, epsilon=1e-07),\n",
    "    loss = 'binary_crossentropy',\n",
    "    metrics=['accuracy' , tf.keras.metrics.Precision(name='precision'),tf.keras.metrics.Recall(name='recall')]\n",
    ")"
   ]
  },
  {
   "cell_type": "code",
   "execution_count": 45,
   "id": "757c4fd2",
   "metadata": {},
   "outputs": [
    {
     "name": "stdout",
     "output_type": "stream",
     "text": [
      "Epoch 1/12\n",
      "37/37 [==============================] - 206s 5s/step - loss: 0.1224 - accuracy: 0.8425 - precision: 0.8121 - recall: 0.7960 - val_loss: 0.2072 - val_accuracy: 0.8659 - val_precision: 0.8705 - val_recall: 0.8581\n",
      "Epoch 2/12\n",
      "37/37 [==============================] - 181s 5s/step - loss: 0.0569 - accuracy: 0.9461 - precision: 0.9448 - recall: 0.9371 - val_loss: 0.2073 - val_accuracy: 0.8294 - val_precision: 0.8954 - val_recall: 0.7799\n",
      "Epoch 3/12\n",
      "37/37 [==============================] - 185s 5s/step - loss: 0.0237 - accuracy: 0.9786 - precision: 0.9764 - recall: 0.9726 - val_loss: 0.0361 - val_accuracy: 0.9596 - val_precision: 0.9667 - val_recall: 0.9440\n",
      "Epoch 4/12\n",
      "37/37 [==============================] - 199s 5s/step - loss: 0.0187 - accuracy: 0.9824 - precision: 0.9836 - recall: 0.9782 - val_loss: 0.0274 - val_accuracy: 0.9727 - val_precision: 0.9726 - val_recall: 0.9714\n",
      "Epoch 5/12\n",
      "37/37 [==============================] - 207s 6s/step - loss: 0.0142 - accuracy: 0.9846 - precision: 0.9858 - recall: 0.9829 - val_loss: 0.0152 - val_accuracy: 0.9857 - val_precision: 0.9856 - val_recall: 0.9831\n",
      "Epoch 6/12\n",
      "37/37 [==============================] - 192s 5s/step - loss: 0.0132 - accuracy: 0.9897 - precision: 0.9893 - recall: 0.9889 - val_loss: 0.0295 - val_accuracy: 0.9688 - val_precision: 0.9674 - val_recall: 0.9648\n",
      "Epoch 7/12\n",
      "37/37 [==============================] - 195s 5s/step - loss: 0.0138 - accuracy: 0.9850 - precision: 0.9850 - recall: 0.9837 - val_loss: 0.0110 - val_accuracy: 0.9896 - val_precision: 0.9883 - val_recall: 0.9896\n",
      "Epoch 8/12\n",
      "37/37 [==============================] - 193s 5s/step - loss: 0.0119 - accuracy: 0.9889 - precision: 0.9897 - recall: 0.9889 - val_loss: 0.0126 - val_accuracy: 0.9961 - val_precision: 0.9974 - val_recall: 0.9948\n",
      "Epoch 9/12\n",
      "37/37 [==============================] - 196s 5s/step - loss: 0.0225 - accuracy: 0.9786 - precision: 0.9806 - recall: 0.9743 - val_loss: 0.8121 - val_accuracy: 0.7930 - val_precision: 0.7917 - val_recall: 0.7917\n",
      "Epoch 10/12\n",
      "37/37 [==============================] - 188s 5s/step - loss: 0.0227 - accuracy: 0.9773 - precision: 0.9823 - recall: 0.9739 - val_loss: 0.0274 - val_accuracy: 0.9818 - val_precision: 0.9855 - val_recall: 0.9740\n",
      "Epoch 11/12\n",
      "37/37 [==============================] - 185s 5s/step - loss: 0.0253 - accuracy: 0.9782 - precision: 0.9772 - recall: 0.9713 - val_loss: 0.3043 - val_accuracy: 0.8776 - val_precision: 0.9275 - val_recall: 0.8659\n",
      "Epoch 12/12\n",
      "37/37 [==============================] - 188s 5s/step - loss: 0.0113 - accuracy: 0.9910 - precision: 0.9902 - recall: 0.9902 - val_loss: 0.0107 - val_accuracy: 0.9870 - val_precision: 0.9869 - val_recall: 0.9844\n"
     ]
    }
   ],
   "source": [
    "history2 = model2.fit(\n",
    "    train_dataset,\n",
    "    steps_per_epoch=len(train_labels)//BATCH_SIZE,\n",
    "    epochs=12,\n",
    "    validation_data=val_dataset,\n",
    "    validation_steps = len(dev_labels)//BATCH_SIZE,\n",
    "    class_weight=class_weight\n",
    ")"
   ]
  },
  {
   "cell_type": "code",
   "execution_count": 46,
   "id": "e1e3bf4b",
   "metadata": {},
   "outputs": [
    {
     "data": {
      "image/png": "[encoded data removed]",
      "text/plain": [
       "<Figure size 640x480 with 1 Axes>"
      ]
     },
     "metadata": {},
     "output_type": "display_data"
    }
   ],
   "source": [
    "#Plotting graph\n",
    "import matplotlib.pyplot as plt\n",
    "plt.plot(history2.history['loss'],color='blue',label='train_loss')\n",
    "plt.plot(history2.history['val_loss'],color='orange',label='dev_loss')\n",
    "plt.legend(loc='upper left')\n",
    "plt.show()"
   ]
  },
  {
   "cell_type": "code",
   "execution_count": 47,
   "id": "b0fa1cdd",
   "metadata": {},
   "outputs": [
    {
     "name": "stdout",
     "output_type": "stream",
     "text": [
      "Model: \"sequential_6\"\n",
      "_________________________________________________________________\n",
      " Layer (type)                Output Shape              Param #   \n",
      "=================================================================\n",
      " efficientnetb2 (Functional)  (None, 3, 3, 1408)       7768569   \n",
      "                                                                 \n",
      " conv2d_4 (Conv2D)           (None, 3, 3, 256)         5767424   \n",
      "                                                                 \n",
      " max_pooling2d (MaxPooling2D  (None, 1, 1, 256)        0         \n",
      " )                                                               \n",
      "                                                                 \n",
      " flatten (Flatten)           (None, 256)               0         \n",
      "                                                                 \n",
      " dense_8 (Dense)             (None, 256)               65792     \n",
      "                                                                 \n",
      " dropout_4 (Dropout)         (None, 256)               0         \n",
      "                                                                 \n",
      " dense_9 (Dense)             (None, 8)                 2056      \n",
      "                                                                 \n",
      "=================================================================\n",
      "Total params: 13,603,841\n",
      "Trainable params: 13,536,266\n",
      "Non-trainable params: 67,575\n",
      "_________________________________________________________________\n"
     ]
    }
   ],
   "source": [
    "#Third model\n",
    "from tensorflow.keras.applications import EfficientNetB2\n",
    "\n",
    "backbone = EfficientNetB2(\n",
    "    input_shape=(96, 96, 3),\n",
    "    include_top=False\n",
    ")\n",
    "\n",
    "model3 = tf.keras.Sequential([\n",
    "    backbone,\n",
    "    tf.keras.layers.Conv2D(256, 4, padding='same', activation='relu'),\n",
    "   tf.keras.layers.MaxPooling2D((3,3)),\n",
    "     tf.keras.layers.Flatten(),\n",
    "    tf.keras.layers.Dense(256, activation='relu'),\n",
    "    tf.keras.layers.Dropout(0.3),\n",
    "    tf.keras.layers.Dense(8, activation='sigmoid')\n",
    "])\n",
    "\n",
    "model3.summary()"
   ]
  },
  {
   "cell_type": "code",
   "execution_count": 48,
   "id": "daf5ffb8",
   "metadata": {},
   "outputs": [],
   "source": [
    "model3.compile(\n",
    "    optimizer=tf.keras.optimizers.Adam(learning_rate=0.001, beta_1=0.9, beta_2=0.999, epsilon=1e-07),\n",
    "    loss = 'binary_crossentropy',\n",
    "    metrics=['accuracy' , tf.keras.metrics.Precision(name='precision'),tf.keras.metrics.Recall(name='recall')]\n",
    ")"
   ]
  },
  {
   "cell_type": "code",
   "execution_count": 49,
   "id": "6ea4336b",
   "metadata": {},
   "outputs": [
    {
     "name": "stdout",
     "output_type": "stream",
     "text": [
      "Epoch 1/12\n",
      "37/37 [==============================] - 238s 6s/step - loss: 0.1360 - accuracy: 0.8353 - precision: 0.7741 - recall: 0.7990 - val_loss: 0.2306 - val_accuracy: 0.8529 - val_precision: 0.8589 - val_recall: 0.8398\n",
      "Epoch 2/12\n",
      "37/37 [==============================] - 206s 6s/step - loss: 0.0365 - accuracy: 0.9645 - precision: 0.9614 - recall: 0.9589 - val_loss: 0.0760 - val_accuracy: 0.9323 - val_precision: 0.9441 - val_recall: 0.9232\n",
      "Epoch 3/12\n",
      "37/37 [==============================] - 197s 5s/step - loss: 0.0332 - accuracy: 0.9688 - precision: 0.9714 - recall: 0.9589 - val_loss: 0.0782 - val_accuracy: 0.9310 - val_precision: 0.9367 - val_recall: 0.9245\n",
      "Epoch 4/12\n",
      "37/37 [==============================] - 204s 6s/step - loss: 0.0280 - accuracy: 0.9739 - precision: 0.9671 - recall: 0.9700 - val_loss: 0.0860 - val_accuracy: 0.9310 - val_precision: 0.9363 - val_recall: 0.9180\n",
      "Epoch 5/12\n",
      "37/37 [==============================] - 198s 5s/step - loss: 0.0249 - accuracy: 0.9726 - precision: 0.9717 - recall: 0.9688 - val_loss: 0.0405 - val_accuracy: 0.9714 - val_precision: 0.9638 - val_recall: 0.9714\n",
      "Epoch 6/12\n",
      "37/37 [==============================] - 201s 5s/step - loss: 0.0212 - accuracy: 0.9786 - precision: 0.9802 - recall: 0.9769 - val_loss: 0.0697 - val_accuracy: 0.9583 - val_precision: 0.9668 - val_recall: 0.9479\n",
      "Epoch 7/12\n",
      "37/37 [==============================] - 201s 5s/step - loss: 0.0141 - accuracy: 0.9867 - precision: 0.9875 - recall: 0.9833 - val_loss: 0.0621 - val_accuracy: 0.9701 - val_precision: 0.9712 - val_recall: 0.9674\n",
      "Epoch 8/12\n",
      "37/37 [==============================] - 209s 6s/step - loss: 0.0156 - accuracy: 0.9829 - precision: 0.9828 - recall: 0.9812 - val_loss: 0.0464 - val_accuracy: 0.9622 - val_precision: 0.9735 - val_recall: 0.9583\n",
      "Epoch 9/12\n",
      "37/37 [==============================] - 202s 5s/step - loss: 0.0164 - accuracy: 0.9833 - precision: 0.9833 - recall: 0.9837 - val_loss: 0.0164 - val_accuracy: 0.9844 - val_precision: 0.9870 - val_recall: 0.9857\n",
      "Epoch 10/12\n",
      "37/37 [==============================] - 200s 5s/step - loss: 0.0112 - accuracy: 0.9880 - precision: 0.9897 - recall: 0.9867 - val_loss: 0.2109 - val_accuracy: 0.9115 - val_precision: 0.9259 - val_recall: 0.8620\n",
      "Epoch 11/12\n",
      "37/37 [==============================] - 199s 5s/step - loss: 0.0110 - accuracy: 0.9884 - precision: 0.9884 - recall: 0.9884 - val_loss: 0.1081 - val_accuracy: 0.9375 - val_precision: 0.9382 - val_recall: 0.9284\n",
      "Epoch 12/12\n",
      "37/37 [==============================] - 199s 5s/step - loss: 0.0138 - accuracy: 0.9923 - precision: 0.9906 - recall: 0.9897 - val_loss: 0.0425 - val_accuracy: 0.9727 - val_precision: 0.9701 - val_recall: 0.9701\n"
     ]
    }
   ],
   "source": [
    "history3 = model3.fit(\n",
    "    train_dataset,\n",
    "    steps_per_epoch=len(train_labels)//BATCH_SIZE,\n",
    "    epochs=12,\n",
    "    validation_data=val_dataset,\n",
    "    validation_steps = len(dev_labels)//BATCH_SIZE,\n",
    "    class_weight=class_weight\n",
    ")"
   ]
  },
  {
   "cell_type": "code",
   "execution_count": 50,
   "id": "28084e36",
   "metadata": {},
   "outputs": [
    {
     "data": {
      "image/png": "[encoded data removed]",
      "text/plain": [
       "<Figure size 640x480 with 1 Axes>"
      ]
     },
     "metadata": {},
     "output_type": "display_data"
    }
   ],
   "source": [
    "#Plotting graph\n",
    "import matplotlib.pyplot as plt\n",
    "plt.plot(history3.history['loss'],color='blue',label='train_loss')\n",
    "plt.plot(history3.history['val_loss'],color='orange',label='dev_loss')\n",
    "plt.legend(loc='upper left')\n",
    "plt.show()"
   ]
  },
  {
   "cell_type": "code",
   "execution_count": 51,
   "id": "1c8c1835",
   "metadata": {},
   "outputs": [
    {
     "name": "stdout",
     "output_type": "stream",
     "text": [
      "Model: \"sequential_7\"\n",
      "_________________________________________________________________\n",
      " Layer (type)                Output Shape              Param #   \n",
      "=================================================================\n",
      " efficientnetb2 (Functional)  (None, 3, 3, 1408)       7768569   \n",
      "                                                                 \n",
      " conv2d_5 (Conv2D)           (None, 3, 3, 256)         5767424   \n",
      "                                                                 \n",
      " max_pooling2d_1 (MaxPooling  (None, 1, 1, 256)        0         \n",
      " 2D)                                                             \n",
      "                                                                 \n",
      " conv2d_6 (Conv2D)           (None, 1, 1, 256)         1048832   \n",
      "                                                                 \n",
      " max_pooling2d_2 (MaxPooling  (None, 1, 1, 256)        0         \n",
      " 2D)                                                             \n",
      "                                                                 \n",
      " flatten_1 (Flatten)         (None, 256)               0         \n",
      "                                                                 \n",
      " dense_10 (Dense)            (None, 256)               65792     \n",
      "                                                                 \n",
      " dropout_5 (Dropout)         (None, 256)               0         \n",
      "                                                                 \n",
      " dense_11 (Dense)            (None, 8)                 2056      \n",
      "                                                                 \n",
      "=================================================================\n",
      "Total params: 14,652,673\n",
      "Trainable params: 14,585,098\n",
      "Non-trainable params: 67,575\n",
      "_________________________________________________________________\n"
     ]
    }
   ],
   "source": [
    "#Fourth model\n",
    "from tensorflow.keras.applications import EfficientNetB2\n",
    "\n",
    "backbone = EfficientNetB2(\n",
    "    input_shape=(96, 96, 3),\n",
    "    include_top=False\n",
    ")\n",
    "\n",
    "model4 = tf.keras.Sequential([\n",
    "    backbone,\n",
    "    tf.keras.layers.Conv2D(256, 4, padding='same', activation='relu'),\n",
    "    tf.keras.layers.MaxPooling2D((3,3), padding='same'),\n",
    "    tf.keras.layers.Conv2D(256, 4, padding='same', activation='relu'),\n",
    "    tf.keras.layers.MaxPooling2D((3,3), padding='same'),\n",
    "    tf.keras.layers.Flatten(),\n",
    "    tf.keras.layers.Dense(256, activation='relu'),\n",
    "    tf.keras.layers.Dropout(0.3),\n",
    "    tf.keras.layers.Dense(8, activation='sigmoid')\n",
    "])\n",
    "\n",
    "model4.summary()\n"
   ]
  },
  {
   "cell_type": "code",
   "execution_count": 52,
   "id": "de101510",
   "metadata": {},
   "outputs": [],
   "source": [
    "model4.compile(\n",
    "    optimizer=tf.keras.optimizers.Adam(learning_rate=0.003, beta_1=0.9, beta_2=0.999, epsilon=1e-07),\n",
    "    loss = 'binary_crossentropy',\n",
    "    metrics=['accuracy' , tf.keras.metrics.Precision(name='precision'),tf.keras.metrics.Recall(name='recall')]\n",
    ")"
   ]
  },
  {
   "cell_type": "code",
   "execution_count": 53,
   "id": "d8600b1d",
   "metadata": {},
   "outputs": [
    {
     "name": "stdout",
     "output_type": "stream",
     "text": [
      "Epoch 1/10\n",
      "37/37 [==============================] - 244s 6s/step - loss: 0.2097 - accuracy: 0.7272 - precision: 0.7650 - recall: 0.6655 - val_loss: 1.0106 - val_accuracy: 0.1445 - val_precision: 0.1342 - val_recall: 0.0898\n",
      "Epoch 2/10\n",
      "37/37 [==============================] - 1103s 31s/step - loss: 0.0963 - accuracy: 0.8985 - precision: 0.9183 - recall: 0.8754 - val_loss: 16.3941 - val_accuracy: 0.2617 - val_precision: 0.2703 - val_recall: 0.2383\n",
      "Epoch 3/10\n",
      "37/37 [==============================] - 221s 6s/step - loss: 0.0810 - accuracy: 0.9204 - precision: 0.9366 - recall: 0.8981 - val_loss: 14.0574 - val_accuracy: 0.1667 - val_precision: 0.1688 - val_recall: 0.1849\n",
      "Epoch 4/10\n",
      "37/37 [==============================] - 219s 6s/step - loss: 0.0606 - accuracy: 0.9422 - precision: 0.9506 - recall: 0.9302 - val_loss: 7.9841 - val_accuracy: 0.5560 - val_precision: 0.6127 - val_recall: 0.5169\n",
      "Epoch 5/10\n",
      "37/37 [==============================] - 212s 6s/step - loss: 0.0468 - accuracy: 0.9521 - precision: 0.9589 - recall: 0.9379 - val_loss: 1.3565 - val_accuracy: 0.7773 - val_precision: 0.7876 - val_recall: 0.7578\n",
      "Epoch 6/10\n",
      "37/37 [==============================] - 209s 6s/step - loss: 0.0479 - accuracy: 0.9568 - precision: 0.9631 - recall: 0.9491 - val_loss: 0.3691 - val_accuracy: 0.9089 - val_precision: 0.9068 - val_recall: 0.8620\n",
      "Epoch 7/10\n",
      "37/37 [==============================] - 209s 6s/step - loss: 0.0591 - accuracy: 0.9439 - precision: 0.9534 - recall: 0.9285 - val_loss: 0.5682 - val_accuracy: 0.8906 - val_precision: 0.8937 - val_recall: 0.8867\n",
      "Epoch 8/10\n",
      "37/37 [==============================] - 220s 6s/step - loss: 0.0349 - accuracy: 0.9662 - precision: 0.9727 - recall: 0.9598 - val_loss: 0.0300 - val_accuracy: 0.9766 - val_precision: 0.9777 - val_recall: 0.9714\n",
      "Epoch 9/10\n",
      "37/37 [==============================] - 219s 6s/step - loss: 0.0710 - accuracy: 0.9311 - precision: 0.9525 - recall: 0.9182 - val_loss: 0.7087 - val_accuracy: 0.6602 - val_precision: 0.6605 - val_recall: 0.6536\n",
      "Epoch 10/10\n",
      "37/37 [==============================] - 217s 6s/step - loss: 0.0358 - accuracy: 0.9619 - precision: 0.9668 - recall: 0.9585 - val_loss: 1.2518 - val_accuracy: 0.6875 - val_precision: 0.6944 - val_recall: 0.6745\n"
     ]
    }
   ],
   "source": [
    "history4 = model4.fit(\n",
    "    train_dataset,\n",
    "    steps_per_epoch=len(train_labels)//BATCH_SIZE,\n",
    "    epochs=10,\n",
    "    validation_data=val_dataset,\n",
    "    validation_steps = len(dev_labels)//BATCH_SIZE,\n",
    "    class_weight=class_weight\n",
    ")"
   ]
  },
  {
   "cell_type": "code",
   "execution_count": 54,
   "id": "9a0986fb",
   "metadata": {},
   "outputs": [
    {
     "data": {
      "image/png": "[encoded data removed]",
      "text/plain": [
       "<Figure size 640x480 with 1 Axes>"
      ]
     },
     "metadata": {},
     "output_type": "display_data"
    }
   ],
   "source": [
    "#Plotting graph\n",
    "import matplotlib.pyplot as plt\n",
    "plt.plot(history4.history['loss'],color='blue',label='train_loss')\n",
    "plt.plot(history4.history['val_loss'],color='orange',label='dev_loss')\n",
    "plt.legend(loc='upper left')\n",
    "plt.show()"
   ]
  },
  {
   "cell_type": "code",
   "execution_count": 55,
   "id": "75912f45",
   "metadata": {},
   "outputs": [
    {
     "name": "stdout",
     "output_type": "stream",
     "text": [
      "Model: \"sequential_8\"\n",
      "_________________________________________________________________\n",
      " Layer (type)                Output Shape              Param #   \n",
      "=================================================================\n",
      " efficientnetb2 (Functional)  (None, 3, 3, 1408)       7768569   \n",
      "                                                                 \n",
      " conv2d_7 (Conv2D)           (None, 3, 3, 256)         3244288   \n",
      "                                                                 \n",
      " global_average_pooling2d_4   (None, 256)              0         \n",
      " (GlobalAveragePooling2D)                                        \n",
      "                                                                 \n",
      " dense_12 (Dense)            (None, 256)               65792     \n",
      "                                                                 \n",
      " dropout_6 (Dropout)         (None, 256)               0         \n",
      "                                                                 \n",
      " dense_13 (Dense)            (None, 8)                 2056      \n",
      "                                                                 \n",
      "=================================================================\n",
      "Total params: 11,080,705\n",
      "Trainable params: 11,013,130\n",
      "Non-trainable params: 67,575\n",
      "_________________________________________________________________\n"
     ]
    }
   ],
   "source": [
    "#Now we apply the second model on the test data\n",
    "from tensorflow.keras.applications import EfficientNetB2\n",
    "\n",
    "backbone = EfficientNetB2(\n",
    "    input_shape=(96, 96, 3),\n",
    "    include_top=False\n",
    ")\n",
    "\n",
    "model_test = tf.keras.Sequential([\n",
    "    backbone,\n",
    "    tf.keras.layers.Conv2D(256, 3, padding='same', activation='relu'),\n",
    "    tf.keras.layers.GlobalAveragePooling2D(),\n",
    "    tf.keras.layers.Dense(256, activation='relu'),\n",
    "    tf.keras.layers.Dropout(0.3),\n",
    "    tf.keras.layers.Dense(8, activation='sigmoid')\n",
    "])\n",
    "\n",
    "model_test.summary()"
   ]
  },
  {
   "cell_type": "code",
   "execution_count": 56,
   "id": "72b9a82e",
   "metadata": {},
   "outputs": [],
   "source": [
    "model_test.compile(\n",
    "    optimizer=tf.keras.optimizers.Adam(learning_rate=0.001, beta_1=0.9, beta_2=0.999, epsilon=1e-07),\n",
    "    loss = 'binary_crossentropy',\n",
    "    metrics=['accuracy' , tf.keras.metrics.Precision(name='precision'),tf.keras.metrics.Recall(name='recall')]\n",
    ")"
   ]
  },
  {
   "cell_type": "code",
   "execution_count": 57,
   "id": "e6c4fb0e",
   "metadata": {},
   "outputs": [
    {
     "name": "stdout",
     "output_type": "stream",
     "text": [
      "Epoch 1/12\n",
      "37/37 [==============================] - 227s 5s/step - loss: 0.1220 - accuracy: 0.8539 - precision: 0.8302 - recall: 0.8074 - val_loss: 0.0945 - val_accuracy: 0.8906 - val_precision: 0.9065 - val_recall: 0.8581\n",
      "Epoch 2/12\n",
      "37/37 [==============================] - 191s 5s/step - loss: 0.0375 - accuracy: 0.9619 - precision: 0.9638 - recall: 0.9576 - val_loss: 0.1501 - val_accuracy: 0.9336 - val_precision: 0.9409 - val_recall: 0.9336\n",
      "Epoch 3/12\n",
      "37/37 [==============================] - 208s 6s/step - loss: 0.0259 - accuracy: 0.9713 - precision: 0.9716 - recall: 0.9666 - val_loss: 0.0273 - val_accuracy: 0.9688 - val_precision: 0.9737 - val_recall: 0.9648\n",
      "Epoch 4/12\n",
      "37/37 [==============================] - 197s 5s/step - loss: 0.0247 - accuracy: 0.9730 - precision: 0.9741 - recall: 0.9658 - val_loss: 0.0824 - val_accuracy: 0.9544 - val_precision: 0.9557 - val_recall: 0.9544\n",
      "Epoch 5/12\n",
      "37/37 [==============================] - 191s 5s/step - loss: 0.0123 - accuracy: 0.9880 - precision: 0.9880 - recall: 0.9859 - val_loss: 0.0302 - val_accuracy: 0.9727 - val_precision: 0.9725 - val_recall: 0.9688\n",
      "Epoch 6/12\n",
      "37/37 [==============================] - 191s 5s/step - loss: 0.0116 - accuracy: 0.9872 - precision: 0.9901 - recall: 0.9829 - val_loss: 0.0095 - val_accuracy: 0.9961 - val_precision: 0.9961 - val_recall: 0.9961\n",
      "Epoch 7/12\n",
      "37/37 [==============================] - 193s 5s/step - loss: 0.0285 - accuracy: 0.9747 - precision: 0.9784 - recall: 0.9713 - val_loss: 0.0707 - val_accuracy: 0.9570 - val_precision: 0.9582 - val_recall: 0.9544\n",
      "Epoch 8/12\n",
      "37/37 [==============================] - 194s 5s/step - loss: 0.0200 - accuracy: 0.9803 - precision: 0.9811 - recall: 0.9773 - val_loss: 0.0485 - val_accuracy: 0.9596 - val_precision: 0.9641 - val_recall: 0.9453\n",
      "Epoch 9/12\n",
      "37/37 [==============================] - 204s 6s/step - loss: 0.0085 - accuracy: 0.9906 - precision: 0.9914 - recall: 0.9859 - val_loss: 0.0026 - val_accuracy: 0.9974 - val_precision: 0.9948 - val_recall: 0.9974\n",
      "Epoch 10/12\n",
      "37/37 [==============================] - 196s 5s/step - loss: 0.0074 - accuracy: 0.9944 - precision: 0.9953 - recall: 0.9923 - val_loss: 0.0302 - val_accuracy: 0.9844 - val_precision: 0.9921 - val_recall: 0.9805\n",
      "Epoch 11/12\n",
      "37/37 [==============================] - 192s 5s/step - loss: 0.0078 - accuracy: 0.9914 - precision: 0.9910 - recall: 0.9897 - val_loss: 0.0061 - val_accuracy: 0.9961 - val_precision: 0.9948 - val_recall: 0.9948\n",
      "Epoch 12/12\n",
      "37/37 [==============================] - 195s 5s/step - loss: 0.0155 - accuracy: 0.9863 - precision: 0.9854 - recall: 0.9850 - val_loss: 0.0116 - val_accuracy: 0.9870 - val_precision: 0.9883 - val_recall: 0.9857\n"
     ]
    }
   ],
   "source": [
    "history_test = model_test.fit(\n",
    "    train_dataset,\n",
    "    steps_per_epoch=len(train_labels)//BATCH_SIZE,\n",
    "    epochs=12,\n",
    "    validation_data=test_dataset,\n",
    "    validation_steps = len(dev_labels)//BATCH_SIZE,\n",
    "    class_weight=class_weight\n",
    ")"
   ]
  },
  {
   "cell_type": "code",
   "execution_count": 59,
   "id": "34eda8af",
   "metadata": {},
   "outputs": [
    {
     "data": {
      "image/png": "[encoded data removed]",
      "text/plain": [
       "<Figure size 640x480 with 1 Axes>"
      ]
     },
     "metadata": {},
     "output_type": "display_data"
    }
   ],
   "source": [
    "#Plotting graph\n",
    "import matplotlib.pyplot as plt\n",
    "plt.plot(history_test.history['loss'],color='blue',label='train_loss')\n",
    "plt.plot(history_test.history['val_loss'],color='orange',label='test_loss')\n",
    "plt.legend(loc='upper left')\n",
    "plt.show()"
   ]
  },
  {
   "cell_type": "code",
   "execution_count": 83,
   "id": "eb99e5d7",
   "metadata": {},
   "outputs": [
    {
     "data": {
      "text/html": [
       "<div>\n",
       "<style scoped>\n",
       "    .dataframe tbody tr th:only-of-type {\n",
       "        vertical-align: middle;\n",
       "    }\n",
       "\n",
       "    .dataframe tbody tr th {\n",
       "        vertical-align: top;\n",
       "    }\n",
       "\n",
       "    .dataframe thead th {\n",
       "        text-align: right;\n",
       "    }\n",
       "</style>\n",
       "<table border=\"1\" class=\"dataframe\">\n",
       "  <thead>\n",
       "    <tr style=\"text-align: right;\">\n",
       "      <th></th>\n",
       "      <th>img_path</th>\n",
       "      <th>class_names</th>\n",
       "    </tr>\n",
       "  </thead>\n",
       "  <tbody>\n",
       "    <tr>\n",
       "      <th>0</th>\n",
       "      <td>D:/Data/LeafData/Anthracnose\\20211008_124249 (...</td>\n",
       "      <td>Anthracnose</td>\n",
       "    </tr>\n",
       "    <tr>\n",
       "      <th>1</th>\n",
       "      <td>D:/Data/LeafData/Anthracnose\\20211008_124250 (...</td>\n",
       "      <td>Anthracnose</td>\n",
       "    </tr>\n",
       "    <tr>\n",
       "      <th>2</th>\n",
       "      <td>D:/Data/LeafData/Anthracnose\\20211008_124252 (...</td>\n",
       "      <td>Anthracnose</td>\n",
       "    </tr>\n",
       "    <tr>\n",
       "      <th>3</th>\n",
       "      <td>D:/Data/LeafData/Anthracnose\\20211008_124253 (...</td>\n",
       "      <td>Anthracnose</td>\n",
       "    </tr>\n",
       "    <tr>\n",
       "      <th>4</th>\n",
       "      <td>D:/Data/LeafData/Anthracnose\\20211008_124256 (...</td>\n",
       "      <td>Anthracnose</td>\n",
       "    </tr>\n",
       "    <tr>\n",
       "      <th>...</th>\n",
       "      <td>...</td>\n",
       "      <td>...</td>\n",
       "    </tr>\n",
       "    <tr>\n",
       "      <th>3995</th>\n",
       "      <td>D:/Data/LeafData/Sooty Mould\\IMG_20211212_1504...</td>\n",
       "      <td>Sooty Mould</td>\n",
       "    </tr>\n",
       "    <tr>\n",
       "      <th>3996</th>\n",
       "      <td>D:/Data/LeafData/Sooty Mould\\IMG_20211212_1504...</td>\n",
       "      <td>Sooty Mould</td>\n",
       "    </tr>\n",
       "    <tr>\n",
       "      <th>3997</th>\n",
       "      <td>D:/Data/LeafData/Sooty Mould\\IMG_20211212_1505...</td>\n",
       "      <td>Sooty Mould</td>\n",
       "    </tr>\n",
       "    <tr>\n",
       "      <th>3998</th>\n",
       "      <td>D:/Data/LeafData/Sooty Mould\\IMG_20211212_1505...</td>\n",
       "      <td>Sooty Mould</td>\n",
       "    </tr>\n",
       "    <tr>\n",
       "      <th>3999</th>\n",
       "      <td>D:/Data/LeafData/Sooty Mould\\IMG_20211212_1505...</td>\n",
       "      <td>Sooty Mould</td>\n",
       "    </tr>\n",
       "  </tbody>\n",
       "</table>\n",
       "<p>4000 rows × 2 columns</p>\n",
       "</div>"
      ],
      "text/plain": [
       "                                               img_path  class_names\n",
       "0     D:/Data/LeafData/Anthracnose\\20211008_124249 (...  Anthracnose\n",
       "1     D:/Data/LeafData/Anthracnose\\20211008_124250 (...  Anthracnose\n",
       "2     D:/Data/LeafData/Anthracnose\\20211008_124252 (...  Anthracnose\n",
       "3     D:/Data/LeafData/Anthracnose\\20211008_124253 (...  Anthracnose\n",
       "4     D:/Data/LeafData/Anthracnose\\20211008_124256 (...  Anthracnose\n",
       "...                                                 ...          ...\n",
       "3995  D:/Data/LeafData/Sooty Mould\\IMG_20211212_1504...  Sooty Mould\n",
       "3996  D:/Data/LeafData/Sooty Mould\\IMG_20211212_1504...  Sooty Mould\n",
       "3997  D:/Data/LeafData/Sooty Mould\\IMG_20211212_1505...  Sooty Mould\n",
       "3998  D:/Data/LeafData/Sooty Mould\\IMG_20211212_1505...  Sooty Mould\n",
       "3999  D:/Data/LeafData/Sooty Mould\\IMG_20211212_1505...  Sooty Mould\n",
       "\n",
       "[4000 rows x 2 columns]"
      ]
     },
     "execution_count": 83,
     "metadata": {},
     "output_type": "execute_result"
    }
   ],
   "source": [
    "df"
   ]
  },
  {
   "cell_type": "code",
   "execution_count": 84,
   "id": "7c6a8198",
   "metadata": {},
   "outputs": [],
   "source": [
    "#Convert the image path to pixels\n",
    "df['img_data'] = [cv2.imread(img_path) for img_path in df['img_path']]"
   ]
  },
  {
   "cell_type": "code",
   "execution_count": 85,
   "id": "ba3bef4f",
   "metadata": {},
   "outputs": [
    {
     "data": {
      "text/html": [
       "<div>\n",
       "<style scoped>\n",
       "    .dataframe tbody tr th:only-of-type {\n",
       "        vertical-align: middle;\n",
       "    }\n",
       "\n",
       "    .dataframe tbody tr th {\n",
       "        vertical-align: top;\n",
       "    }\n",
       "\n",
       "    .dataframe thead th {\n",
       "        text-align: right;\n",
       "    }\n",
       "</style>\n",
       "<table border=\"1\" class=\"dataframe\">\n",
       "  <thead>\n",
       "    <tr style=\"text-align: right;\">\n",
       "      <th></th>\n",
       "      <th>img_path</th>\n",
       "      <th>class_names</th>\n",
       "      <th>img_data</th>\n",
       "    </tr>\n",
       "  </thead>\n",
       "  <tbody>\n",
       "    <tr>\n",
       "      <th>0</th>\n",
       "      <td>D:/Data/LeafData/Anthracnose\\20211008_124249 (...</td>\n",
       "      <td>Anthracnose</td>\n",
       "      <td>[[[221, 201, 183], [221, 201, 183], [220, 200,...</td>\n",
       "    </tr>\n",
       "    <tr>\n",
       "      <th>1</th>\n",
       "      <td>D:/Data/LeafData/Anthracnose\\20211008_124250 (...</td>\n",
       "      <td>Anthracnose</td>\n",
       "      <td>[[[229, 214, 205], [229, 214, 205], [229, 214,...</td>\n",
       "    </tr>\n",
       "    <tr>\n",
       "      <th>2</th>\n",
       "      <td>D:/Data/LeafData/Anthracnose\\20211008_124252 (...</td>\n",
       "      <td>Anthracnose</td>\n",
       "      <td>[[[218, 205, 197], [219, 206, 198], [220, 207,...</td>\n",
       "    </tr>\n",
       "    <tr>\n",
       "      <th>3</th>\n",
       "      <td>D:/Data/LeafData/Anthracnose\\20211008_124253 (...</td>\n",
       "      <td>Anthracnose</td>\n",
       "      <td>[[[223, 210, 202], [223, 210, 202], [222, 209,...</td>\n",
       "    </tr>\n",
       "    <tr>\n",
       "      <th>4</th>\n",
       "      <td>D:/Data/LeafData/Anthracnose\\20211008_124256 (...</td>\n",
       "      <td>Anthracnose</td>\n",
       "      <td>[[[227, 207, 189], [227, 207, 189], [227, 207,...</td>\n",
       "    </tr>\n",
       "  </tbody>\n",
       "</table>\n",
       "</div>"
      ],
      "text/plain": [
       "                                            img_path  class_names  \\\n",
       "0  D:/Data/LeafData/Anthracnose\\20211008_124249 (...  Anthracnose   \n",
       "1  D:/Data/LeafData/Anthracnose\\20211008_124250 (...  Anthracnose   \n",
       "2  D:/Data/LeafData/Anthracnose\\20211008_124252 (...  Anthracnose   \n",
       "3  D:/Data/LeafData/Anthracnose\\20211008_124253 (...  Anthracnose   \n",
       "4  D:/Data/LeafData/Anthracnose\\20211008_124256 (...  Anthracnose   \n",
       "\n",
       "                                            img_data  \n",
       "0  [[[221, 201, 183], [221, 201, 183], [220, 200,...  \n",
       "1  [[[229, 214, 205], [229, 214, 205], [229, 214,...  \n",
       "2  [[[218, 205, 197], [219, 206, 198], [220, 207,...  \n",
       "3  [[[223, 210, 202], [223, 210, 202], [222, 209,...  \n",
       "4  [[[227, 207, 189], [227, 207, 189], [227, 207,...  "
      ]
     },
     "execution_count": 85,
     "metadata": {},
     "output_type": "execute_result"
    }
   ],
   "source": [
    "df.head()"
   ]
  },
  {
   "cell_type": "code",
   "execution_count": 86,
   "id": "8a676754",
   "metadata": {},
   "outputs": [
    {
     "data": {
      "text/plain": [
       "array([[[221, 201, 183],\n",
       "        [221, 201, 183],\n",
       "        [220, 200, 182],\n",
       "        ...,\n",
       "        [202, 178, 158],\n",
       "        [202, 178, 158],\n",
       "        [202, 178, 158]],\n",
       "\n",
       "       [[221, 201, 183],\n",
       "        [221, 201, 183],\n",
       "        [220, 200, 182],\n",
       "        ...,\n",
       "        [202, 178, 158],\n",
       "        [202, 178, 158],\n",
       "        [202, 178, 158]],\n",
       "\n",
       "       [[221, 201, 183],\n",
       "        [221, 201, 183],\n",
       "        [220, 200, 182],\n",
       "        ...,\n",
       "        [202, 178, 158],\n",
       "        [202, 178, 158],\n",
       "        [202, 178, 158]],\n",
       "\n",
       "       ...,\n",
       "\n",
       "       [[208, 188, 171],\n",
       "        [207, 187, 170],\n",
       "        [207, 187, 170],\n",
       "        ...,\n",
       "        [192, 165, 144],\n",
       "        [192, 165, 144],\n",
       "        [192, 165, 144]],\n",
       "\n",
       "       [[208, 188, 171],\n",
       "        [207, 187, 170],\n",
       "        [207, 187, 170],\n",
       "        ...,\n",
       "        [192, 165, 144],\n",
       "        [192, 165, 144],\n",
       "        [192, 165, 144]],\n",
       "\n",
       "       [[208, 188, 171],\n",
       "        [207, 187, 170],\n",
       "        [207, 187, 170],\n",
       "        ...,\n",
       "        [192, 165, 144],\n",
       "        [192, 165, 144],\n",
       "        [192, 165, 144]]], dtype=uint8)"
      ]
     },
     "execution_count": 86,
     "metadata": {},
     "output_type": "execute_result"
    }
   ],
   "source": [
    "df['img_data'][0]"
   ]
  },
  {
   "cell_type": "code",
   "execution_count": 90,
   "id": "f224c97d",
   "metadata": {},
   "outputs": [
    {
     "name": "stdout",
     "output_type": "stream",
     "text": [
      "[[0.86605349 0.78762212 0.71703388 ... 0.75296407 0.64708172 0.56472878]\n",
      " [0.89806549 0.83924215 0.80394746 ... 0.7529774  0.65493819 0.57650681]\n",
      " [0.86294945 0.81196906 0.78059651 ... 0.6705936  0.56471125 0.48627988]\n",
      " ...\n",
      " [0.9999893  0.99514603 0.99514603 ... 0.81290373 0.78937432 0.80898216]\n",
      " [0.99747533 0.99747533 0.99747533 ... 0.82190422 0.79837481 0.81798266]\n",
      " [0.97946655 0.97162342 0.97162342 ... 0.81547634 0.79979007 0.81939791]]\n"
     ]
    }
   ],
   "source": [
    "from skimage.transform import resize\n",
    "\n",
    "img_data_flat = np.array([resize(img, (100, 100)).flatten() for img in df['img_data']])\n",
    "print(img_data_flat)"
   ]
  },
  {
   "cell_type": "code",
   "execution_count": 91,
   "id": "1eb9f610",
   "metadata": {},
   "outputs": [
    {
     "name": "stdout",
     "output_type": "stream",
     "text": [
      "Accuracy:  0.8535\n"
     ]
    },
    {
     "name": "stderr",
     "output_type": "stream",
     "text": [
      "C:\\Users\\S Sai Manideep\\anaconda3\\lib\\site-packages\\sklearn\\neighbors\\_classification.py:228: FutureWarning: Unlike other reduction functions (e.g. `skew`, `kurtosis`), the default behavior of `mode` typically preserves the axis it acts along. In SciPy 1.11.0, this behavior will change: the default value of `keepdims` will become False, the `axis` over which the statistic is taken will be eliminated, and the value None will no longer be accepted. Set `keepdims` to True or False to avoid this warning.\n",
      "  mode, _ = stats.mode(_y[neigh_ind, k], axis=1)\n"
     ]
    }
   ],
   "source": [
    "from sklearn.neighbors import KNeighborsClassifier\n",
    "neigh = KNeighborsClassifier(n_neighbors=3)\n",
    "neigh.fit(img_data_flat, df['class_names'])\n",
    "accuracy = neigh.score(img_data_flat, df['class_names'])\n",
    "print(\"Accuracy: \", accuracy)"
   ]
  },
  {
   "cell_type": "code",
   "execution_count": 92,
   "id": "fb5cb0b8",
   "metadata": {},
   "outputs": [
    {
     "name": "stdout",
     "output_type": "stream",
     "text": [
      "Accuracy:  0.78725\n"
     ]
    },
    {
     "name": "stderr",
     "output_type": "stream",
     "text": [
      "C:\\Users\\S Sai Manideep\\anaconda3\\lib\\site-packages\\sklearn\\neighbors\\_classification.py:228: FutureWarning: Unlike other reduction functions (e.g. `skew`, `kurtosis`), the default behavior of `mode` typically preserves the axis it acts along. In SciPy 1.11.0, this behavior will change: the default value of `keepdims` will become False, the `axis` over which the statistic is taken will be eliminated, and the value None will no longer be accepted. Set `keepdims` to True or False to avoid this warning.\n",
      "  mode, _ = stats.mode(_y[neigh_ind, k], axis=1)\n"
     ]
    }
   ],
   "source": [
    "neigh1 = KNeighborsClassifier(n_neighbors=5)\n",
    "neigh1.fit(img_data_flat, df['class_names'])\n",
    "accuracy = neigh1.score(img_data_flat, df['class_names'])\n",
    "print(\"Accuracy: \", accuracy)"
   ]
  },
  {
   "cell_type": "code",
   "execution_count": 94,
   "id": "f6b3f44b",
   "metadata": {},
   "outputs": [
    {
     "name": "stdout",
     "output_type": "stream",
     "text": [
      "Accuracy:  0.76425\n"
     ]
    },
    {
     "name": "stderr",
     "output_type": "stream",
     "text": [
      "C:\\Users\\S Sai Manideep\\anaconda3\\lib\\site-packages\\sklearn\\neighbors\\_classification.py:228: FutureWarning: Unlike other reduction functions (e.g. `skew`, `kurtosis`), the default behavior of `mode` typically preserves the axis it acts along. In SciPy 1.11.0, this behavior will change: the default value of `keepdims` will become False, the `axis` over which the statistic is taken will be eliminated, and the value None will no longer be accepted. Set `keepdims` to True or False to avoid this warning.\n",
      "  mode, _ = stats.mode(_y[neigh_ind, k], axis=1)\n"
     ]
    }
   ],
   "source": [
    "neigh2 = KNeighborsClassifier(n_neighbors=7)\n",
    "neigh2.fit(img_data_flat, df['class_names'])\n",
    "accuracy = neigh2.score(img_data_flat, df['class_names'])\n",
    "print(\"Accuracy: \", accuracy)"
   ]
  },
  {
   "cell_type": "code",
   "execution_count": 96,
   "id": "379708c4",
   "metadata": {},
   "outputs": [
    {
     "name": "stdout",
     "output_type": "stream",
     "text": [
      "Accuracy:  0.73525\n"
     ]
    },
    {
     "name": "stderr",
     "output_type": "stream",
     "text": [
      "C:\\Users\\S Sai Manideep\\anaconda3\\lib\\site-packages\\sklearn\\neighbors\\_classification.py:228: FutureWarning: Unlike other reduction functions (e.g. `skew`, `kurtosis`), the default behavior of `mode` typically preserves the axis it acts along. In SciPy 1.11.0, this behavior will change: the default value of `keepdims` will become False, the `axis` over which the statistic is taken will be eliminated, and the value None will no longer be accepted. Set `keepdims` to True or False to avoid this warning.\n",
      "  mode, _ = stats.mode(_y[neigh_ind, k], axis=1)\n"
     ]
    }
   ],
   "source": [
    "neigh3 = KNeighborsClassifier(n_neighbors=9)\n",
    "neigh3.fit(img_data_flat, df['class_names'])\n",
    "accuracy = neigh3.score(img_data_flat, df['class_names'])\n",
    "print(\"Accuracy: \", accuracy)"
   ]
  },
  {
   "cell_type": "code",
   "execution_count": 97,
   "id": "eb71a2d6",
   "metadata": {},
   "outputs": [
    {
     "name": "stdout",
     "output_type": "stream",
     "text": [
      "Accuracy:  0.725\n"
     ]
    },
    {
     "name": "stderr",
     "output_type": "stream",
     "text": [
      "C:\\Users\\S Sai Manideep\\anaconda3\\lib\\site-packages\\sklearn\\neighbors\\_classification.py:228: FutureWarning: Unlike other reduction functions (e.g. `skew`, `kurtosis`), the default behavior of `mode` typically preserves the axis it acts along. In SciPy 1.11.0, this behavior will change: the default value of `keepdims` will become False, the `axis` over which the statistic is taken will be eliminated, and the value None will no longer be accepted. Set `keepdims` to True or False to avoid this warning.\n",
      "  mode, _ = stats.mode(_y[neigh_ind, k], axis=1)\n"
     ]
    }
   ],
   "source": [
    "neigh4 = KNeighborsClassifier(n_neighbors=11)\n",
    "neigh4.fit(img_data_flat, df['class_names'])\n",
    "accuracy = neigh4.score(img_data_flat, df['class_names'])\n",
    "print(\"Accuracy: \", accuracy)"
   ]
  },
  {
   "cell_type": "code",
   "execution_count": 98,
   "id": "f1292065",
   "metadata": {},
   "outputs": [
    {
     "name": "stdout",
     "output_type": "stream",
     "text": [
      "Accuracy:  0.71025\n"
     ]
    },
    {
     "name": "stderr",
     "output_type": "stream",
     "text": [
      "C:\\Users\\S Sai Manideep\\anaconda3\\lib\\site-packages\\sklearn\\neighbors\\_classification.py:228: FutureWarning: Unlike other reduction functions (e.g. `skew`, `kurtosis`), the default behavior of `mode` typically preserves the axis it acts along. In SciPy 1.11.0, this behavior will change: the default value of `keepdims` will become False, the `axis` over which the statistic is taken will be eliminated, and the value None will no longer be accepted. Set `keepdims` to True or False to avoid this warning.\n",
      "  mode, _ = stats.mode(_y[neigh_ind, k], axis=1)\n"
     ]
    }
   ],
   "source": [
    "neigh5 = KNeighborsClassifier(n_neighbors=13)\n",
    "neigh5.fit(img_data_flat, df['class_names'])\n",
    "accuracy = neigh5.score(img_data_flat, df['class_names'])\n",
    "print(\"Accuracy: \", accuracy)"
   ]
  },
  {
   "cell_type": "code",
   "execution_count": 99,
   "id": "73c77fda",
   "metadata": {},
   "outputs": [
    {
     "name": "stdout",
     "output_type": "stream",
     "text": [
      "Accuracy:  0.7005\n"
     ]
    },
    {
     "name": "stderr",
     "output_type": "stream",
     "text": [
      "C:\\Users\\S Sai Manideep\\anaconda3\\lib\\site-packages\\sklearn\\neighbors\\_classification.py:228: FutureWarning: Unlike other reduction functions (e.g. `skew`, `kurtosis`), the default behavior of `mode` typically preserves the axis it acts along. In SciPy 1.11.0, this behavior will change: the default value of `keepdims` will become False, the `axis` over which the statistic is taken will be eliminated, and the value None will no longer be accepted. Set `keepdims` to True or False to avoid this warning.\n",
      "  mode, _ = stats.mode(_y[neigh_ind, k], axis=1)\n"
     ]
    }
   ],
   "source": [
    "neigh6 = KNeighborsClassifier(n_neighbors=15)\n",
    "neigh6.fit(img_data_flat, df['class_names'])\n",
    "accuracy = neigh6.score(img_data_flat, df['class_names'])\n",
    "print(\"Accuracy: \", accuracy)"
   ]
  },
  {
   "cell_type": "code",
   "execution_count": 101,
   "id": "7d6b5033",
   "metadata": {},
   "outputs": [
    {
     "data": {
      "text/plain": [
       "[<matplotlib.lines.Line2D at 0x2db64147280>]"
      ]
     },
     "execution_count": 101,
     "metadata": {},
     "output_type": "execute_result"
    },
    {
     "data": {
      "image/png": "[encoded data removed]",
      "text/plain": [
       "<Figure size 640x480 with 1 Axes>"
      ]
     },
     "metadata": {},
     "output_type": "display_data"
    }
   ],
   "source": [
    "#Plot a graph for neighbors vs accuracy\n",
    "x=[3,5,7,9,11,13,15]\n",
    "y=[0.8535,0.78725,0.76425,0.73525,0.725,0.71025,0.7005]\n",
    "plt.xlabel(\"Nieghbors\")\n",
    "plt.ylabel(\"Accurcay\")\n",
    "plt.plot(x,y)"
   ]
  },
  {
   "cell_type": "code",
   "execution_count": null,
   "id": "a34207b8",
   "metadata": {},
   "outputs": [],
   "source": [
    "\n",
    "\n"
   ]
  }
 ],
 "metadata": {
  "kernelspec": {
   "display_name": "Python 3 (ipykernel)",
   "language": "python",
   "name": "python3"
  },
  "language_info": {
   "codemirror_mode": {
    "name": "ipython",
    "version": 3
   },
   "file_extension": ".py",
   "mimetype": "text/x-python",
   "name": "python",
   "nbconvert_exporter": "python",
   "pygments_lexer": "ipython3",
   "version": "3.9.13"
  }
 },
 "nbformat": 4,
 "nbformat_minor": 5
}
